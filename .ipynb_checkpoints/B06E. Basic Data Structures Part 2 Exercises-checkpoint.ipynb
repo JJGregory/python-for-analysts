{
 "cells": [
  {
   "cell_type": "markdown",
   "metadata": {},
   "source": [
    "# B06E: Basic Data Structures Part 2 Exercises"
   ]
  },
  {
   "cell_type": "markdown",
   "metadata": {},
   "source": [
    "#### Exercise 1: For the following list:\n",
    "\n",
    "1) Return the count of the number of items in it.<br/>\n",
    "2) Remove the 'Tom' and 'Behnom' values from the list<br/>\n",
    "3) Sort the list into alphabetical order<br/>\n",
    "4) Append a new value to the list of 'Brian'.<br/>\n",
    "5) Sort the list in reverse order and convert this to a Tuple.<br/>\n",
    "6) Why can't we sort the tuple?<br/>"
   ]
  },
  {
   "cell_type": "code",
   "execution_count": 64,
   "metadata": {
    "collapsed": true
   },
   "outputs": [],
   "source": [
    "beatles = ['John','Paul','George','Ringo','Tom','Behnom']"
   ]
  },
  {
   "cell_type": "code",
   "execution_count": 65,
   "metadata": {
    "collapsed": false
   },
   "outputs": [
    {
     "data": {
      "text/plain": [
       "6"
      ]
     },
     "execution_count": 65,
     "metadata": {},
     "output_type": "execute_result"
    }
   ],
   "source": [
    "len(beatles)"
   ]
  },
  {
   "cell_type": "code",
   "execution_count": 66,
   "metadata": {
    "collapsed": false
   },
   "outputs": [
    {
     "data": {
      "text/plain": [
       "['John', 'Paul', 'George', 'Ringo']"
      ]
     },
     "execution_count": 66,
     "metadata": {},
     "output_type": "execute_result"
    }
   ],
   "source": [
    "beatles.remove('Tom')\n",
    "beatles.remove('Behnom')\n",
    "beatles"
   ]
  },
  {
   "cell_type": "code",
   "execution_count": 67,
   "metadata": {
    "collapsed": false
   },
   "outputs": [
    {
     "data": {
      "text/plain": [
       "['George', 'John', 'Paul', 'Ringo']"
      ]
     },
     "execution_count": 67,
     "metadata": {},
     "output_type": "execute_result"
    }
   ],
   "source": [
    "beatles.sort()\n",
    "beatles"
   ]
  },
  {
   "cell_type": "code",
   "execution_count": 68,
   "metadata": {
    "collapsed": false
   },
   "outputs": [
    {
     "data": {
      "text/plain": [
       "['George', 'John', 'Paul', 'Ringo', 'Brian']"
      ]
     },
     "execution_count": 68,
     "metadata": {},
     "output_type": "execute_result"
    }
   ],
   "source": [
    "beatles.append('Brian')\n",
    "beatles"
   ]
  },
  {
   "cell_type": "code",
   "execution_count": null,
   "metadata": {
    "collapsed": false
   },
   "outputs": [],
   "source": []
  },
  {
   "cell_type": "code",
   "execution_count": null,
   "metadata": {
    "collapsed": true
   },
   "outputs": [],
   "source": []
  },
  {
   "cell_type": "code",
   "execution_count": null,
   "metadata": {
    "collapsed": true
   },
   "outputs": [],
   "source": []
  },
  {
   "cell_type": "code",
   "execution_count": 63,
   "metadata": {
    "collapsed": false
   },
   "outputs": [
    {
     "data": {
      "text/plain": [
       "['Brian', 'John', 'Paul', 'George', 'Ringo', 'Brian', 'Brian']"
      ]
     },
     "execution_count": 63,
     "metadata": {},
     "output_type": "execute_result"
    }
   ],
   "source": [
    "beatles"
   ]
  },
  {
   "cell_type": "markdown",
   "metadata": {
    "collapsed": true
   },
   "source": [
    "#### Exercise 2: On the following dicitionary...\n",
    "\n",
    "1) Use key indexing to print the values for a, d and h in the dictionary 'dict'<br/>\n",
    "2) Update the 'dict' dictionary with the key 'k' with the value 11<br/>\n",
    "3) Create separate lists for the keys and values (Move on if you get stuck!)<br/>"
   ]
  },
  {
   "cell_type": "code",
   "execution_count": 44,
   "metadata": {
    "collapsed": false
   },
   "outputs": [],
   "source": [
    "mydict1 = {'a':1,\n",
    "        'b':2,\n",
    "        'c':3,\n",
    "        'd':4,\n",
    "        'e':5,\n",
    "        'f':6,\n",
    "        'g':7,\n",
    "        'h':8,\n",
    "        'i':9,\n",
    "        'j':10}"
   ]
  },
  {
   "cell_type": "code",
   "execution_count": 45,
   "metadata": {
    "collapsed": false
   },
   "outputs": [
    {
     "name": "stdout",
     "output_type": "stream",
     "text": [
      "1 4 8\n"
     ]
    }
   ],
   "source": [
    "print(\n",
    "    mydict1['a'],\n",
    "    mydict1['d'],\n",
    "    mydict1['h']\n",
    ")"
   ]
  },
  {
   "cell_type": "code",
   "execution_count": 47,
   "metadata": {
    "collapsed": false
   },
   "outputs": [
    {
     "data": {
      "text/plain": [
       "{'a': 1,\n",
       " 'b': 2,\n",
       " 'c': 3,\n",
       " 'd': 4,\n",
       " 'e': 5,\n",
       " 'f': 6,\n",
       " 'g': 7,\n",
       " 'h': 8,\n",
       " 'i': 9,\n",
       " 'j': 10,\n",
       " 'k': 11}"
      ]
     },
     "execution_count": 47,
     "metadata": {},
     "output_type": "execute_result"
    }
   ],
   "source": [
    "mydict1['k'] = 11\n",
    "mydict1"
   ]
  },
  {
   "cell_type": "code",
   "execution_count": null,
   "metadata": {
    "collapsed": false
   },
   "outputs": [],
   "source": [
    "keys = list(dict1.keys())\n",
    "vals = list(dict1.values())"
   ]
  },
  {
   "cell_type": "markdown",
   "metadata": {},
   "source": [
    "#### Exercise 3: Below are 4 data structures...\n",
    "\n",
    "1) Create a nested dictionary of lists containing these with the keys as follows: Cheese, Biscuits, Vegetables, Milk<br/>\n",
    "2) From the dictionary, call the:<br/>\n",
    "* third value in cheese<br/>\n",
    "* first value in biscuits<br/>\n",
    "* last value in vegetables<br/>\n",
    "* second value in milk<br/>"
   ]
  },
  {
   "cell_type": "code",
   "execution_count": 79,
   "metadata": {
    "collapsed": false
   },
   "outputs": [],
   "source": [
    "cheese = ['Stilton','Wensleydale','Cheddar','Brie','Edam','Feta','Halloumi']\n",
    "biscuits = ['Digestive','Rich Tea','Hob Nob','Custard Creme','Shortbread']\n",
    "vegetables = ('Peas','Carrots','Green Bean','Sweetcorn')\n",
    "milk = set()\n",
    "milk.add('Semi-Skimmed')\n",
    "milk.add('Skimmed')\n",
    "milk.add('Whole')\n",
    "milk.add('Soy')"
   ]
  },
  {
   "cell_type": "code",
   "execution_count": null,
   "metadata": {
    "collapsed": false
   },
   "outputs": [],
   "source": [
    "vegetables_list = list(vegetables)\n",
    "milk_list = list(milk)\n",
    "\n",
    "print(type(vegetables_list),type(milk_list)) # Making sure they've converted correctly\n",
    "\n",
    "\n",
    "dict1 = {'Cheese':cheese,\n",
    "        'Biscuits':biscuits,\n",
    "        'Vegetables':vegetables_list,\n",
    "        'Milk':milk_list}\n",
    "dict1"
   ]
  },
  {
   "cell_type": "code",
   "execution_count": null,
   "metadata": {
    "collapsed": false
   },
   "outputs": [],
   "source": [
    "print(\n",
    "dict1['Cheese'][2],\n",
    "dict1['Biscuits'][0],\n",
    "dict1['Vegetables'][-1],\n",
    "dict1['Milk'][1]\n",
    ")"
   ]
  },
  {
   "cell_type": "code",
   "execution_count": null,
   "metadata": {
    "collapsed": true
   },
   "outputs": [],
   "source": []
  }
 ],
 "metadata": {
  "kernelspec": {
   "display_name": "Python [default]",
   "language": "python",
   "name": "python3"
  },
  "language_info": {
   "codemirror_mode": {
    "name": "ipython",
    "version": 3
   },
   "file_extension": ".py",
   "mimetype": "text/x-python",
   "name": "python",
   "nbconvert_exporter": "python",
   "pygments_lexer": "ipython3",
   "version": "3.5.2"
  }
 },
 "nbformat": 4,
 "nbformat_minor": 0
}
