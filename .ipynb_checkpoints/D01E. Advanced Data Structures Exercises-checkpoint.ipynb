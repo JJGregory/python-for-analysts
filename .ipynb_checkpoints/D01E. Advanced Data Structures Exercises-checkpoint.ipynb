{
 "cells": [
  {
   "cell_type": "markdown",
   "metadata": {},
   "source": [
    "# D01E: Advanced Data Structures Exercises"
   ]
  },
  {
   "cell_type": "markdown",
   "metadata": {},
   "source": [
    "#### Exercise 1: Create the following Numpy arrays with random numbers for the following dimensions:\n",
    "\n",
    "* 5 x 5\n",
    "* 1 x 20\n",
    "* 90 x 90\n",
    "\n",
    "Also round the arrays to 3 decimal places."
   ]
  },
  {
   "cell_type": "code",
   "execution_count": 5,
   "metadata": {
    "collapsed": false
   },
   "outputs": [
    {
     "data": {
      "text/plain": [
       "array([[ 0.6,  0.5,  0.8,  0.6,  1. ],\n",
       "       [ 0.1,  0.6,  0.3,  0.2,  0.1],\n",
       "       [ 0.7,  0.6,  0.9,  0.1,  0.6],\n",
       "       [ 0.2,  0.8,  0.6,  0. ,  0.6],\n",
       "       [ 0.4,  1. ,  0.9,  0.2,  0.2]])"
      ]
     },
     "execution_count": 5,
     "metadata": {},
     "output_type": "execute_result"
    }
   ],
   "source": [
    "import numpy as np\n",
    "\n",
    "arr1 = np.random.random((5,5)).round(3)\n",
    "arr2 = np.random.random((1,20)).round(3)\n",
    "arr3 = np.random.random((90,90)).round(3)\n",
    "\n",
    "\n",
    "arr1"
   ]
  },
  {
   "cell_type": "markdown",
   "metadata": {},
   "source": [
    "#### Exercise 2: Create a 1 dimensional array containing 10 records and convert this to a pandas series with the custom index:"
   ]
  },
  {
   "cell_type": "code",
   "execution_count": null,
   "metadata": {
    "collapsed": true
   },
   "outputs": [],
   "source": [
    "custom_index = ['A','B','C','D','E','F','G','H','I','J']"
   ]
  },
  {
   "cell_type": "code",
   "execution_count": null,
   "metadata": {
    "collapsed": false
   },
   "outputs": [],
   "source": [
    "import pandas as pd\n",
    "\n"
   ]
  },
  {
   "cell_type": "markdown",
   "metadata": {},
   "source": [
    "#### Exercise 3: Create a Pandas dataframe from the following data, and name the columns col1 - col5. Then...\n",
    "\n",
    "1) Convert col1 to an array.\n",
    "2) Convert col2 to a list.\n",
    "3) Convert col3 to a dictionary."
   ]
  },
  {
   "cell_type": "code",
   "execution_count": null,
   "metadata": {
    "collapsed": false
   },
   "outputs": [],
   "source": [
    "index = np.arange(0,5)\n",
    "data1 = np.random.random(5)\n",
    "data2 = np.random.random(5)\n",
    "data3 = np.random.random(5)\n",
    "data4 = np.random.random(5)\n",
    "data5 = np.random.random(5)"
   ]
  },
  {
   "cell_type": "code",
   "execution_count": null,
   "metadata": {
    "collapsed": false
   },
   "outputs": [],
   "source": []
  }
 ],
 "metadata": {
  "kernelspec": {
   "display_name": "Python [default]",
   "language": "python",
   "name": "python3"
  },
  "language_info": {
   "codemirror_mode": {
    "name": "ipython",
    "version": 3
   },
   "file_extension": ".py",
   "mimetype": "text/x-python",
   "name": "python",
   "nbconvert_exporter": "python",
   "pygments_lexer": "ipython3",
   "version": "3.5.2"
  }
 },
 "nbformat": 4,
 "nbformat_minor": 0
}
