{
 "cells": [
  {
   "cell_type": "markdown",
   "metadata": {},
   "source": [
    "# Python for Analysts Training"
   ]
  },
  {
   "cell_type": "markdown",
   "metadata": {},
   "source": [
    "Hi! And welcome to the Python for Analysts training course. This covers everything you need to know to start using Python for data analysis and visualisation as well as showcasing some more advanced Data Science Topics, including Machine Learning, Web Scraping & APIs and Natural Language Processing.\n",
    "\n",
    "The course assumes no prior knowledge of Python and will teach you everything you need to know in order to use Python for data analysis and visualisation, including interfacing with Python via the Jupyter interface, using Text Editors / Integrated Development Environments (IDEs), upgrading Python, working with the command line etc.\n",
    "\n",
    "Lastly, note that the course can only hope to give you an introduction to Python for Data Analysis over the 2 days. You'll no doubt want to continue your learning afterward, and the course provides links to relevant material with which to further your development."
   ]
  },
  {
   "cell_type": "markdown",
   "metadata": {},
   "source": [
    "## About me"
   ]
  },
  {
   "cell_type": "markdown",
   "metadata": {},
   "source": [
    "I'm Tom Ewing, a data scientist working for the Department for Transport. I've been using Python since mid 2015 after making the jump from SAS.\n",
    "\n",
    "Python is one of the most popular programming languages in the world and can be used for a multitude of different tasks. For this reason much of the training available is geared towards programmers rather than analysts and this made my own learning journey much more difficult. People would reccomend the codeacademy course, but 12 hours later I was still scratching my head as to how Python could be used to deal with large and complex datasets!!\n",
    "\n",
    "Additionally much of this assumes knowledge of things like packages, the command line etc. which analysts are less likely to have experience with.\n",
    "\n",
    "Lastly, I learned a lot of things that I didn't necessarily need to, at least not to begin with. This course teaches you exactly what you need to know, whilst at the same time signposting you to more advanced topics if you want to discuver more in your own time.\n",
    "\n",
    "Having delivered training courses in other technology before, I was really keen to use this experience to develop my own Python training course geared towards users of things like SAS, SQL, Stata, SPSS and (dare I say it!) Excel who wanted to make the jump to Python.\n",
    "\n",
    "If you're such a person, then this course is for you, and I hope you find it interesting and engaging!"
   ]
  },
  {
   "cell_type": "markdown",
   "metadata": {},
   "source": [
    "## Structure of the Course"
   ]
  },
  {
   "cell_type": "markdown",
   "metadata": {},
   "source": [
    "This course has been designed to be both delivered as a classroom training course, but can also be taken offline as well, in your own time.\n",
    "\n",
    "In a classroom environment course is designed to cover 3 days with time for exercises and consolidation in between. There is also more material for you to explore afterward also.\n",
    "\n",
    "You will be expected to have a project to practice with after the conclusion of the training! This will allow you to consolidate your Python training and continue to learn and develop.\n",
    "\n",
    "The structure of the course is as follows:\n",
    "\n",
    "## Day 1:\n",
    "\n",
    "### <b>Basics</b> \n",
    "\n",
    "* Interfacing with Python\n",
    "* Basic Python Sytnax\n",
    "* Data Structures\n",
    "* Coding concepts\n",
    "* Looping\n",
    "* Enhancing Python with Packages\n",
    "\n",
    "## Day 2:\n",
    "\n",
    "### <b>Working with data</b>\n",
    "\n",
    "* Data Analysis Libraries\n",
    "* Advanced Data Structures\n",
    "* Importing / Exporting Data\n",
    "* Working with DataFrames\n",
    "* Summary Statistics\n",
    "* Tables\n",
    "\n",
    "### <b>Visualisation</b>\n",
    "\n",
    "* Static Visualisation\n",
    "* Statistical Visualisation\n",
    "* Interactive Visualisation\n",
    "\n",
    "## Day 3:\n",
    "\n",
    "### <b>Python for Data Science</b>\n",
    "\n",
    "* Intro to Data Science\n",
    "* Gathering Data\n",
    "* Machine Learning\n",
    "* Natural Language Processing\n",
    "* Neural Networks\n"
   ]
  },
  {
   "cell_type": "markdown",
   "metadata": {},
   "source": [
    "## Delivery of the Course"
   ]
  },
  {
   "cell_type": "markdown",
   "metadata": {},
   "source": [
    "During the lectures, you might wish to just listen, follow along on your screen, or execute the code in your own blank notebook, make notes etc. All of this is fine so long as you pay attention!\n",
    "\n",
    "In most of the lectures the code is 'pre-baked' - we will explain what it does, execute it and show you and talk you through the output. This means we can give the class our full attention and not focus on finding typos or wondering why code didn't run properly!\n",
    "\n",
    "The course is structured so that you spend 40-50% of your time on the exercises. When doing the exercises it's <b>VITAL</b> to refer back to the lessons we'll have just been through since these will contain the code and explanation required to complete the exercises."
   ]
  },
  {
   "cell_type": "markdown",
   "metadata": {},
   "source": [
    "## Domestic Arrangements"
   ]
  },
  {
   "cell_type": "markdown",
   "metadata": {},
   "source": [
    "* Laptops\n",
    "* Toilets\n",
    "* Fire Alarm\n",
    "* Breaks & Lunch\n",
    "* Phones"
   ]
  }
 ],
 "metadata": {
  "anaconda-cloud": {},
  "kernelspec": {
   "display_name": "Python 3",
   "language": "python",
   "name": "python3"
  },
  "language_info": {
   "codemirror_mode": {
    "name": "ipython",
    "version": 3
   },
   "file_extension": ".py",
   "mimetype": "text/x-python",
   "name": "python",
   "nbconvert_exporter": "python",
   "pygments_lexer": "ipython3",
   "version": "3.5.1"
  }
 },
 "nbformat": 4,
 "nbformat_minor": 0
}
