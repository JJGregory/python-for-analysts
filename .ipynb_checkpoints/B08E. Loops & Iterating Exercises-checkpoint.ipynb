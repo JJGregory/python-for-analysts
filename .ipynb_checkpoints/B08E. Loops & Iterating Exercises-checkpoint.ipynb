{
 "cells": [
  {
   "cell_type": "markdown",
   "metadata": {},
   "source": [
    "# B08E: Loops & Iterating Exercises"
   ]
  },
  {
   "cell_type": "markdown",
   "metadata": {
    "collapsed": true
   },
   "source": [
    "#### Exercise 1: Create a for loop that takes each item in list1, multiplies it by the multiply variable, adds the add variable and then divides by the divide variable. Then append the output to the answers list. Print the completed answers list."
   ]
  },
  {
   "cell_type": "code",
   "execution_count": 2,
   "metadata": {
    "collapsed": true
   },
   "outputs": [],
   "source": [
    "list1 = [2,4,6,1,6,7,8,4,3,10]\n",
    "multiply = 3\n",
    "add = 4\n",
    "divide = 2.89\n",
    "\n",
    "answers = []"
   ]
  },
  {
   "cell_type": "code",
   "execution_count": 4,
   "metadata": {
    "collapsed": false
   },
   "outputs": [
    {
     "data": {
      "text/plain": [
       "[3.460207612456747,\n",
       " 5.536332179930795,\n",
       " 7.612456747404844,\n",
       " 2.422145328719723,\n",
       " 7.612456747404844,\n",
       " 8.650519031141869,\n",
       " 9.688581314878892,\n",
       " 5.536332179930795,\n",
       " 4.498269896193771,\n",
       " 11.76470588235294,\n",
       " 3.460207612456747,\n",
       " 5.536332179930795,\n",
       " 7.612456747404844,\n",
       " 2.422145328719723,\n",
       " 7.612456747404844,\n",
       " 8.650519031141869,\n",
       " 9.688581314878892,\n",
       " 5.536332179930795,\n",
       " 4.498269896193771,\n",
       " 11.76470588235294]"
      ]
     },
     "execution_count": 4,
     "metadata": {},
     "output_type": "execute_result"
    }
   ],
   "source": [
    "for number in list1:\n",
    "    answer = ((number * multiply) + add)/ divide\n",
    "    answers.append(answer)\n",
    "\n",
    "answers"
   ]
  },
  {
   "cell_type": "markdown",
   "metadata": {},
   "source": [
    "#### Exercise 2: Create a while loop that prints the value of i as long as it is less than 100 and increases i by 10 for each iteration."
   ]
  },
  {
   "cell_type": "code",
   "execution_count": 6,
   "metadata": {
    "collapsed": true
   },
   "outputs": [],
   "source": [
    "i = 0"
   ]
  },
  {
   "cell_type": "code",
   "execution_count": 7,
   "metadata": {
    "collapsed": false
   },
   "outputs": [
    {
     "name": "stdout",
     "output_type": "stream",
     "text": [
      "0\n",
      "10\n",
      "20\n",
      "30\n",
      "40\n",
      "50\n",
      "60\n",
      "70\n",
      "80\n",
      "90\n"
     ]
    }
   ],
   "source": [
    "while i < 100:\n",
    "    print(i)\n",
    "    i += 10"
   ]
  },
  {
   "cell_type": "markdown",
   "metadata": {},
   "source": [
    "#### Exercise 3: Use a list comprehension to create a new list containing the values in list2 squared."
   ]
  },
  {
   "cell_type": "code",
   "execution_count": 9,
   "metadata": {
    "collapsed": true
   },
   "outputs": [],
   "source": [
    "list2 = [132,5345,63576,234234,64563,234,745,98679,344535,467568,36,3456,457,67,3456,3456,567,47,48,26]"
   ]
  },
  {
   "cell_type": "code",
   "execution_count": 15,
   "metadata": {
    "collapsed": false
   },
   "outputs": [
    {
     "data": {
      "text/plain": [
       "[303595776,\n",
       " 816189189450625,\n",
       " 16337018469689266176,\n",
       " 3010230415457092363536,\n",
       " 17375399902721378961,\n",
       " 2998219536,\n",
       " 308052750625,\n",
       " 94819783425503691681,\n",
       " 14090726560878920750625,\n",
       " 47794632091025109221376,\n",
       " 1679616,\n",
       " 142657607172096,\n",
       " 43617904801,\n",
       " 20151121,\n",
       " 142657607172096,\n",
       " 142657607172096,\n",
       " 103355177121,\n",
       " 4879681,\n",
       " 5308416,\n",
       " 456976]"
      ]
     },
     "execution_count": 15,
     "metadata": {},
     "output_type": "execute_result"
    }
   ],
   "source": [
    "list3 = [number**2 for number in list2]\n",
    "list3"
   ]
  },
  {
   "cell_type": "markdown",
   "metadata": {
    "collapsed": false
   },
   "source": [
    "#### Exercise 4: Create an iterator that iterates through list3, converting types or passing where appropriate."
   ]
  },
  {
   "cell_type": "code",
   "execution_count": null,
   "metadata": {
    "collapsed": true
   },
   "outputs": [],
   "source": [
    "list3 = [1,2,3,4,'5',6,7,'8',9,True,10,'11',False,None]\n",
    "var = 0"
   ]
  },
  {
   "cell_type": "code",
   "execution_count": null,
   "metadata": {
    "collapsed": true
   },
   "outputs": [],
   "source": []
  }
 ],
 "metadata": {
  "kernelspec": {
   "display_name": "Python [default]",
   "language": "python",
   "name": "python3"
  },
  "language_info": {
   "codemirror_mode": {
    "name": "ipython",
    "version": 3
   },
   "file_extension": ".py",
   "mimetype": "text/x-python",
   "name": "python",
   "nbconvert_exporter": "python",
   "pygments_lexer": "ipython3",
   "version": "3.5.2"
  }
 },
 "nbformat": 4,
 "nbformat_minor": 0
}
