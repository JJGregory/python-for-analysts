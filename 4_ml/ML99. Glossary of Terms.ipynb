{
 "cells": [
  {
   "cell_type": "markdown",
   "metadata": {},
   "source": [
    "**Attribute:** In Machine Learning an attribute is a data type (e.g., “Mileage”), while a **feature** has several meanings depending on the context, but generally means an attribute plus its value (e.g., “Mileage = 15,000”). Many people use the words attribute and feature interchangeably."
   ]
  },
  {
   "cell_type": "markdown",
   "metadata": {},
   "source": [
    "**Batch Learning:**"
   ]
  },
  {
   "cell_type": "markdown",
   "metadata": {},
   "source": [
    "**Classification:** Classification is where the data belongs to two or more classes and we want to learn from already labeled data how to predict the class of unlabeled data."
   ]
  },
  {
   "cell_type": "markdown",
   "metadata": {},
   "source": [
    "**Feature:** In Machine Learning a feature has several meanings depending on the context, but generally means an **attribute** plus its value (e.g., “Mileage = 15,000”). Many people use the words attribute and feature interchangeably."
   ]
  },
  {
   "cell_type": "markdown",
   "metadata": {},
   "source": [
    "**Labels:** A label is the desired solution to your Machine Learning problem. Put simply, it is what you are trying to predict."
   ]
  },
  {
   "cell_type": "markdown",
   "metadata": {},
   "source": [
    "**Predictor:** A value associated with a **label** variable upon which a prediction can be based."
   ]
  },
  {
   "cell_type": "markdown",
   "metadata": {},
   "source": [
    "**Regression:** If the desired output consists of one or more continuous variables, then the task is called regression. An example of a regression problem would be the prediction of the length of a salmon as a function of its age and weight."
   ]
  },
  {
   "cell_type": "markdown",
   "metadata": {},
   "source": [
    "**Reinforcement Learning:** The reinforcement learning system, called an **agent** in this context, can observe the environment, select and perform actions, and get rewards in return (or penalties in the form of negative rewards, as in Figure 1-12). It must then learn by itself what is the best strategy, called a policy, to get the most reward over time. A policy defines what action the agent should choose when it is in a given situation."
   ]
  },
  {
   "cell_type": "markdown",
   "metadata": {},
   "source": [
    "**Semi-supervised Learning:** A semi-supervised ML algorithm deals with partially labeled training data, usually a lot of unlabeled data and a little bit of labeled data."
   ]
  },
  {
   "cell_type": "markdown",
   "metadata": {},
   "source": [
    "**Supervised Learning:** In Supervised Learning the training data that you feed into the algorithm includes the desired solutions. These are called **labels**. A typical supervised learning task is **classification** where is is trained with example classification (e.g. spam or not-spam emails) in order to classify new data."
   ]
  },
  {
   "cell_type": "markdown",
   "metadata": {},
   "source": [
    "**Target:** The target is the desired solution to your regression based ML problem. It differs from **label** in that the **target** is only applicable to regression based ML, wheras **labels** can be for a variety of ML algorithms.\n",
    "\n",
    "**Train / Test Split:**  "
   ]
  },
  {
   "cell_type": "markdown",
   "metadata": {},
   "source": [
    "**Unsupervised Learning:** In Unsupervised Learning, the training data is unlabelled and the system tries to find patterns in the data without being taught."
   ]
  },
  {
   "cell_type": "code",
   "execution_count": null,
   "metadata": {},
   "outputs": [],
   "source": []
  }
 ],
 "metadata": {
  "kernelspec": {
   "display_name": "Python 3",
   "language": "python",
   "name": "python3"
  },
  "language_info": {
   "codemirror_mode": {
    "name": "ipython",
    "version": 3
   },
   "file_extension": ".py",
   "mimetype": "text/x-python",
   "name": "python",
   "nbconvert_exporter": "python",
   "pygments_lexer": "ipython3",
   "version": "3.6.4"
  }
 },
 "nbformat": 4,
 "nbformat_minor": 2
}
