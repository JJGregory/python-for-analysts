{
 "cells": [
  {
   "cell_type": "markdown",
   "metadata": {},
   "source": [
    "# B08E: Loops & Iterating Exercises"
   ]
  },
  {
   "cell_type": "markdown",
   "metadata": {
    "collapsed": true
   },
   "source": [
    "#### Exercise 1: Create a for loop that takes each item in list1, multiplies it by the multiply variable, adds the add variable and then divides by the divide variable. Then append the output to the answers list. Print the completed answers list."
   ]
  },
  {
   "cell_type": "code",
   "execution_count": 16,
   "metadata": {
    "collapsed": true
   },
   "outputs": [],
   "source": [
    "list1 = [2,4,6,1,6,7,8,4,3,10]\n",
    "multiply = 3\n",
    "add = 4\n",
    "divide = 2.89\n",
    "\n"
   ]
  },
  {
   "cell_type": "code",
   "execution_count": 23,
   "metadata": {
    "collapsed": false
   },
   "outputs": [
    {
     "data": {
      "text/plain": [
       "[3.460207612456747,\n",
       " 5.536332179930795,\n",
       " 7.612456747404844,\n",
       " 2.422145328719723,\n",
       " 7.612456747404844,\n",
       " 8.650519031141869,\n",
       " 9.688581314878892,\n",
       " 5.536332179930795,\n",
       " 4.498269896193771,\n",
       " 11.76470588235294]"
      ]
     },
     "execution_count": 23,
     "metadata": {},
     "output_type": "execute_result"
    }
   ],
   "source": [
    "answers = []\n",
    "\n",
    "for number in list1:\n",
    "    answer = ((number * multiply) + add)/ divide\n",
    "    answers.append(answer)\n",
    "\n",
    "answers"
   ]
  },
  {
   "cell_type": "markdown",
   "metadata": {},
   "source": [
    "#### Exercise 2: Create a while loop that prints the value of i as long as it is less than 100 and increases i by 10 for each iteration."
   ]
  },
  {
   "cell_type": "code",
   "execution_count": 24,
   "metadata": {
    "collapsed": true
   },
   "outputs": [],
   "source": []
  },
  {
   "cell_type": "code",
   "execution_count": 27,
   "metadata": {
    "collapsed": false
   },
   "outputs": [
    {
     "data": {
      "text/plain": [
       "100"
      ]
     },
     "execution_count": 27,
     "metadata": {},
     "output_type": "execute_result"
    }
   ],
   "source": [
    "i = 0\n",
    "\n",
    "while i < 100:\n",
    "    print(i)\n",
    "    i += 10"
   ]
  },
  {
   "cell_type": "markdown",
   "metadata": {},
   "source": [
    "#### Exercise 3: Use a list comprehension to create a new list containing the values in list2 squared."
   ]
  },
  {
   "cell_type": "code",
   "execution_count": 9,
   "metadata": {
    "collapsed": true
   },
   "outputs": [],
   "source": [
    "list2 = [132,5345,63576,234234,64563,234,745,98679,344535,467568,36,3456,457,67,3456,3456,567,47,48,26]"
   ]
  },
  {
   "cell_type": "code",
   "execution_count": 29,
   "metadata": {
    "collapsed": false
   },
   "outputs": [
    {
     "data": {
      "text/plain": [
       "[1605976966052654874624,\n",
       " 19031678624653117601418574705087890625,\n",
       " 1078777798742930814383587776072731454343401701376,\n",
       " 497163628364268070563569844081052925558505634137547776,\n",
       " 1258453063040672570127639252430058258473408875849,\n",
       " 492219227058666339787776,\n",
       " 52669928340462973740244140625,\n",
       " 87548235519000890227459496093724547513024849581201,\n",
       " 23568582761849485535596445998913148108046310041494140625,\n",
       " 499399159642511431459758945818903329471905680756387610624,\n",
       " 3656158440062976,\n",
       " 243073345330964281680845098425778176,\n",
       " 397339737654378065640319249,\n",
       " 1822837804551761449,\n",
       " 243073345330964281680845098425778176,\n",
       " 243073345330964281680845098425778176,\n",
       " 3434239577805805268237746449,\n",
       " 52599132235830049,\n",
       " 64925062108545024,\n",
       " 141167095653376]"
      ]
     },
     "execution_count": 29,
     "metadata": {},
     "output_type": "execute_result"
    }
   ],
   "source": [
    "list3 = [number for number in list2]\n",
    "list3"
   ]
  },
  {
   "cell_type": "markdown",
   "metadata": {
    "collapsed": false
   },
   "source": [
    "#### Exercise 4: Create an iterator that iterates through list3, converting types or passing where appropriate."
   ]
  },
  {
   "cell_type": "code",
   "execution_count": null,
   "metadata": {
    "collapsed": true
   },
   "outputs": [],
   "source": [
    "list3 = [1,2,3,4,'5',6,7,'8',9,True,10,'11',False,None]\n",
    "var = 0"
   ]
  },
  {
   "cell_type": "code",
   "execution_count": null,
   "metadata": {
    "collapsed": true
   },
   "outputs": [],
   "source": []
  }
 ],
 "metadata": {
  "kernelspec": {
   "display_name": "Python [default]",
   "language": "python",
   "name": "python3"
  },
  "language_info": {
   "codemirror_mode": {
    "name": "ipython",
    "version": 3
   },
   "file_extension": ".py",
   "mimetype": "text/x-python",
   "name": "python",
   "nbconvert_exporter": "python",
   "pygments_lexer": "ipython3",
   "version": "3.5.2"
  }
 },
 "nbformat": 4,
 "nbformat_minor": 0
}
