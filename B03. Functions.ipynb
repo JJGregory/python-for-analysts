{
 "cells": [
  {
   "cell_type": "markdown",
   "metadata": {},
   "source": [
    "# B03: Functions"
   ]
  },
  {
   "cell_type": "markdown",
   "metadata": {},
   "source": [
    "A key computer programming concept is <b>DRY</b> short for <b>Don't Repeat Yourself</b>.\n",
    "\n",
    "The first step in writing efficient and understandable code is the use of functions. If you've used any sort of programming software before, you'll have likely come across functions in one form or another.\n",
    "\n",
    "A function is a block of organized, reusable code that is used to perform a single action. Function make writing code a lot easier since instead of having to repeat blocks of code over and over, we can call functions with specific paramters instead. The syntax to call a function in Python is as follows:\n",
    "\n",
    "<b>function_name(parameter,parameter...)</b>\n",
    "\n",
    "The parameters can be anything... objects, strings, text, blanks etc.\n",
    "\n",
    "Python has some functions 'built in' but we can create our own custom functions too.\n",
    "\n",
    "We've already met 2 functions:\n",
    "\n",
    "* type()\n",
    "* print()\n",
    "\n",
    "Lets meet another couple of functions... len() and help()\n",
    "\n",
    "The len() function can be used to tell us how long a particular variable or object is, in this case a character string:"
   ]
  },
  {
   "cell_type": "markdown",
   "metadata": {},
   "source": [
    "### The len() function"
   ]
  },
  {
   "cell_type": "markdown",
   "metadata": {},
   "source": [
    "The len() function can be used to tell us how long a particular variable or object is, in this case a character string:"
   ]
  },
  {
   "cell_type": "code",
   "execution_count": 1,
   "metadata": {
    "collapsed": false
   },
   "outputs": [
    {
     "data": {
      "text/plain": [
       "11"
      ]
     },
     "execution_count": 1,
     "metadata": {},
     "output_type": "execute_result"
    }
   ],
   "source": [
    "a = \"Hello World\"\n",
    "len(a)"
   ]
  },
  {
   "cell_type": "markdown",
   "metadata": {},
   "source": [
    "### The help() function"
   ]
  },
  {
   "cell_type": "markdown",
   "metadata": {},
   "source": [
    "And the help() function can return some useful help on functions, variables and objects. In this case we'll call it on the len() function:"
   ]
  },
  {
   "cell_type": "code",
   "execution_count": 2,
   "metadata": {
    "collapsed": false,
    "scrolled": true
   },
   "outputs": [
    {
     "name": "stdout",
     "output_type": "stream",
     "text": [
      "Help on built-in function len in module builtins:\n",
      "\n",
      "len(obj, /)\n",
      "    Return the number of items in a container.\n",
      "\n"
     ]
    }
   ],
   "source": [
    "help(len)"
   ]
  },
  {
   "cell_type": "markdown",
   "metadata": {},
   "source": [
    "help() is a really useful function that can tell you more about anything and everytihng in Python. When you're starting out it's an excellent friend to make early on! =)"
   ]
  },
  {
   "cell_type": "markdown",
   "metadata": {},
   "source": [
    "### Nesting Functions:"
   ]
  },
  {
   "cell_type": "markdown",
   "metadata": {},
   "source": [
    "You can also \"nest\" functions inside one another like so:"
   ]
  },
  {
   "cell_type": "code",
   "execution_count": 2,
   "metadata": {
    "collapsed": false
   },
   "outputs": [
    {
     "name": "stdout",
     "output_type": "stream",
     "text": [
      "11\n"
     ]
    }
   ],
   "source": [
    "a = \"Hello World\"\n",
    "b = print(len(a))\n",
    "b"
   ]
  },
  {
   "cell_type": "markdown",
   "metadata": {},
   "source": [
    "This is a good way to keep your code compact and succinct."
   ]
  },
  {
   "cell_type": "markdown",
   "metadata": {},
   "source": [
    "## Creating Functions"
   ]
  },
  {
   "cell_type": "markdown",
   "metadata": {},
   "source": [
    "We don't just have to rely on the functions that Python provides us with. We can create our own functions too.\n",
    "\n",
    "A basic function has two steps... \n",
    "\n",
    "* Defininition (where we create the function)\n",
    "* Execution (where we call the function)"
   ]
  },
  {
   "cell_type": "markdown",
   "metadata": {},
   "source": [
    "## Defining a Function"
   ]
  },
  {
   "cell_type": "markdown",
   "metadata": {},
   "source": [
    "We're now going to create a function... Let's say we have a lot of variables that we want to print out the length of..."
   ]
  },
  {
   "cell_type": "code",
   "execution_count": 9,
   "metadata": {
    "collapsed": true
   },
   "outputs": [],
   "source": [
    "a = 'Some text'\n",
    "b = 'Yet more text'\n",
    "c = 'Some more text'\n",
    "d = 'A load more text'"
   ]
  },
  {
   "cell_type": "markdown",
   "metadata": {},
   "source": [
    "If we want to print all these manually we'd have to do the following:"
   ]
  },
  {
   "cell_type": "code",
   "execution_count": 10,
   "metadata": {
    "collapsed": false
   },
   "outputs": [
    {
     "name": "stdout",
     "output_type": "stream",
     "text": [
      "9\n",
      "13\n",
      "14\n",
      "16\n"
     ]
    }
   ],
   "source": [
    "print(len(a))\n",
    "print(len(b))\n",
    "print(len(c))\n",
    "print(len(d))"
   ]
  },
  {
   "cell_type": "markdown",
   "metadata": {},
   "source": [
    "However if we create a function, we can drastically reduce the amount of text we have to type. Let's do this now..."
   ]
  },
  {
   "cell_type": "code",
   "execution_count": 15,
   "metadata": {
    "collapsed": false
   },
   "outputs": [],
   "source": [
    "def our_function(variable):\n",
    "    print(len(variable))"
   ]
  },
  {
   "cell_type": "markdown",
   "metadata": {},
   "source": [
    "The above shows an example function. Let's break the function down into it's individual parts...\n",
    "\n",
    "* The <strong>def</strong> keyword defines the function. \n",
    "* This is followed by the <strong>function name</strong>, in this case 'our_function'. \n",
    "* The brackets contain the <strong>parameters or arguments</strong> of our function. In this case our single argument is 'variable'.\n",
    "* We then have a colon to signify that the body of the function is about to follow.\n",
    "* The body of this particular function consists of nested print and length statements for our parameter 'variable'.\n",
    "* You'll notice that the body is indented... This is important as the indentation tells Python where the function ends.\n",
    "\n",
    "Our parameter of 'variable' essentially acts as a placeholder for an input value which is provided when we call the function. \n",
    "\n",
    "You'll notice that we didn'g get an output when we defined the function. This is because we've only created it and not executed or called it.\n",
    "\n",
    "To call a function, all we need to is type the function name and the parameter(s) in brackets. Let's do that now with our 'a' object which we defined above..."
   ]
  },
  {
   "cell_type": "code",
   "execution_count": 16,
   "metadata": {
    "collapsed": false
   },
   "outputs": [
    {
     "name": "stdout",
     "output_type": "stream",
     "text": [
      "9\n"
     ]
    }
   ],
   "source": [
    "our_function(a)"
   ]
  },
  {
   "cell_type": "markdown",
   "metadata": {},
   "source": [
    "As we can see our function has executed and printed the length of variable a, which in this case is 9. Success!! If we wanted to apply the function to variables 'a' through 'd' we could simply call the function 4 times as follows:"
   ]
  },
  {
   "cell_type": "code",
   "execution_count": 17,
   "metadata": {
    "collapsed": false
   },
   "outputs": [
    {
     "name": "stdout",
     "output_type": "stream",
     "text": [
      "9\n",
      "13\n",
      "14\n",
      "16\n"
     ]
    }
   ],
   "source": [
    "our_function(a)\n",
    "our_function(b)\n",
    "our_function(c)\n",
    "our_function(d)"
   ]
  },
  {
   "cell_type": "markdown",
   "metadata": {},
   "source": [
    "## Functions With Multiple Input Parameters"
   ]
  },
  {
   "cell_type": "markdown",
   "metadata": {},
   "source": [
    "However, what if we wanted to have more than one input parameter to our function? Let's say for example, we wanted our function to print out four variables rather than just one. We accomplish this by creating more parameters when defining the function and referencing these in the function body like so:"
   ]
  },
  {
   "cell_type": "code",
   "execution_count": 18,
   "metadata": {
    "collapsed": true
   },
   "outputs": [],
   "source": [
    "def another_function(var1,var2,var3,var4):\n",
    "    print(len(var1))\n",
    "    print(len(var2))    \n",
    "    print(len(var3))   \n",
    "    print(len(var4))\n",
    "    "
   ]
  },
  {
   "cell_type": "markdown",
   "metadata": {},
   "source": [
    "Then when we call the function, we pass four input parameters to it. In this case, variables a through d, defined above."
   ]
  },
  {
   "cell_type": "code",
   "execution_count": 19,
   "metadata": {
    "collapsed": false
   },
   "outputs": [
    {
     "name": "stdout",
     "output_type": "stream",
     "text": [
      "9\n",
      "13\n",
      "14\n",
      "16\n"
     ]
    }
   ],
   "source": [
    "another_function(a,b,c,d)"
   ]
  },
  {
   "cell_type": "markdown",
   "metadata": {},
   "source": [
    "But how does Python know which variables to apply to which input parameters? In this case we have supplied <a href = \"https://stackoverflow.com/questions/9450656/positional-argument-v-s-keyword-argument\">positional arguments</a>. That is to say the position of the function parameters (var1-4) maps on to the position of the variables supplied when we call the function (a-d):\n",
    "\n",
    "* var1 = a\n",
    "* var2 = b\n",
    "* var3 = c\n",
    "* var4 = d\n",
    "\n",
    "If we change the order of a through d when we call the function, this will affect which variables are assigned to which input parameters:"
   ]
  },
  {
   "cell_type": "code",
   "execution_count": 20,
   "metadata": {
    "collapsed": false
   },
   "outputs": [
    {
     "name": "stdout",
     "output_type": "stream",
     "text": [
      "16\n",
      "14\n",
      "13\n",
      "9\n"
     ]
    }
   ],
   "source": [
    "another_function(d,c,b,a)"
   ]
  },
  {
   "cell_type": "markdown",
   "metadata": {},
   "source": [
    "If we want we can explicitly specify which parameters map to which variables, via <a href = \"https://stackoverflow.com/questions/9450656/positional-argument-v-s-keyword-argument\">keyword arguments</a> as follows:"
   ]
  },
  {
   "cell_type": "code",
   "execution_count": 21,
   "metadata": {
    "collapsed": false
   },
   "outputs": [
    {
     "name": "stdout",
     "output_type": "stream",
     "text": [
      "9\n",
      "13\n",
      "14\n",
      "16\n"
     ]
    }
   ],
   "source": [
    "another_function(var1=a,var2=b,var3=c,var4=d)"
   ]
  },
  {
   "cell_type": "markdown",
   "metadata": {},
   "source": [
    "## Enhancing our Function"
   ]
  },
  {
   "cell_type": "markdown",
   "metadata": {},
   "source": [
    "At the moment our function isn't particularly well named and outputs a string of numbers which aren't particularly meaningful to the user. As such we're going to rename our function and add in some extra processing via <b>string tokens</b> to make the output more meaningful..."
   ]
  },
  {
   "cell_type": "code",
   "execution_count": 44,
   "metadata": {
    "collapsed": false
   },
   "outputs": [],
   "source": [
    "def print_len(var1):\n",
    "    print('The text string \"' + var1 + '\" is ' + str(len(var1)) + ' characters long.')"
   ]
  },
  {
   "cell_type": "markdown",
   "metadata": {},
   "source": [
    "Now this might look a little daunting so let's call the function and analyse what it's done."
   ]
  },
  {
   "cell_type": "code",
   "execution_count": 45,
   "metadata": {
    "collapsed": false
   },
   "outputs": [
    {
     "name": "stdout",
     "output_type": "stream",
     "text": [
      "The text string \"Some text\" is 9 characters long.\n"
     ]
    }
   ],
   "source": [
    "print_len(a)"
   ]
  },
  {
   "cell_type": "markdown",
   "metadata": {},
   "source": [
    "As we can see the function now has a much more user friendly output!\n",
    "\n",
    "We've added in some text strings as follows and you'll notice we've used the + operator to combine them with other text strings. This operator will not only add floats and integers but also concatanate text strings together too.\n",
    "\n",
    "you'll also see some nested functions as follows:"
   ]
  },
  {
   "cell_type": "code",
   "execution_count": null,
   "metadata": {
    "collapsed": false
   },
   "outputs": [],
   "source": [
    "str(len(var1))"
   ]
  },
  {
   "cell_type": "markdown",
   "metadata": {},
   "source": [
    "This returns the length of var1 (which will be an integer) and converts it to a string which can then be concatenated into our output string. \n",
    "\n",
    "If we don't tell Python to convert it to a string, we will get an error as follows:"
   ]
  },
  {
   "cell_type": "code",
   "execution_count": 48,
   "metadata": {
    "collapsed": false
   },
   "outputs": [
    {
     "ename": "TypeError",
     "evalue": "Can't convert 'int' object to str implicitly",
     "output_type": "error",
     "traceback": [
      "\u001b[0;31m---------------------------------------------------------------------------\u001b[0m",
      "\u001b[0;31mTypeError\u001b[0m                                 Traceback (most recent call last)",
      "\u001b[0;32m<ipython-input-48-ec20b9f9ee0d>\u001b[0m in \u001b[0;36m<module>\u001b[0;34m()\u001b[0m\n\u001b[1;32m      2\u001b[0m     \u001b[0mprint\u001b[0m\u001b[0;34m(\u001b[0m\u001b[0;34m'The text string \"'\u001b[0m \u001b[0;34m+\u001b[0m \u001b[0mvar1\u001b[0m \u001b[0;34m+\u001b[0m \u001b[0;34m'\" is '\u001b[0m \u001b[0;34m+\u001b[0m \u001b[0mlen\u001b[0m\u001b[0;34m(\u001b[0m\u001b[0mvar1\u001b[0m\u001b[0;34m)\u001b[0m \u001b[0;34m+\u001b[0m \u001b[0;34m' characters long.'\u001b[0m\u001b[0;34m)\u001b[0m\u001b[0;34m\u001b[0m\u001b[0m\n\u001b[1;32m      3\u001b[0m \u001b[0;34m\u001b[0m\u001b[0m\n\u001b[0;32m----> 4\u001b[0;31m \u001b[0mprint_len\u001b[0m\u001b[0;34m(\u001b[0m\u001b[0ma\u001b[0m\u001b[0;34m)\u001b[0m\u001b[0;34m\u001b[0m\u001b[0m\n\u001b[0m",
      "\u001b[0;32m<ipython-input-48-ec20b9f9ee0d>\u001b[0m in \u001b[0;36mprint_len\u001b[0;34m(var1)\u001b[0m\n\u001b[1;32m      1\u001b[0m \u001b[0;32mdef\u001b[0m \u001b[0mprint_len\u001b[0m\u001b[0;34m(\u001b[0m\u001b[0mvar1\u001b[0m\u001b[0;34m)\u001b[0m\u001b[0;34m:\u001b[0m\u001b[0;34m\u001b[0m\u001b[0m\n\u001b[0;32m----> 2\u001b[0;31m     \u001b[0mprint\u001b[0m\u001b[0;34m(\u001b[0m\u001b[0;34m'The text string \"'\u001b[0m \u001b[0;34m+\u001b[0m \u001b[0mvar1\u001b[0m \u001b[0;34m+\u001b[0m \u001b[0;34m'\" is '\u001b[0m \u001b[0;34m+\u001b[0m \u001b[0mlen\u001b[0m\u001b[0;34m(\u001b[0m\u001b[0mvar1\u001b[0m\u001b[0;34m)\u001b[0m \u001b[0;34m+\u001b[0m \u001b[0;34m' characters long.'\u001b[0m\u001b[0;34m)\u001b[0m\u001b[0;34m\u001b[0m\u001b[0m\n\u001b[0m\u001b[1;32m      3\u001b[0m \u001b[0;34m\u001b[0m\u001b[0m\n\u001b[1;32m      4\u001b[0m \u001b[0mprint_len\u001b[0m\u001b[0;34m(\u001b[0m\u001b[0ma\u001b[0m\u001b[0;34m)\u001b[0m\u001b[0;34m\u001b[0m\u001b[0m\n",
      "\u001b[0;31mTypeError\u001b[0m: Can't convert 'int' object to str implicitly"
     ]
    }
   ],
   "source": [
    "def print_len(var1):\n",
    "    print('The text string \"' + var1 + '\" is ' + len(var1) + ' characters long.')\n",
    "    \n",
    "print_len(a)"
   ]
  },
  {
   "cell_type": "markdown",
   "metadata": {},
   "source": [
    "One last thing we can do to our function is to create a 'docstring' to help users understand what our function does. This is a multiline comment included by convention as the first line in the function as follows:"
   ]
  },
  {
   "cell_type": "code",
   "execution_count": 49,
   "metadata": {
    "collapsed": true
   },
   "outputs": [],
   "source": [
    "def print_len(var1):\n",
    "    '''Prints the length of the input character string'''\n",
    "    print('The text string \"' + var1 + '\" is ' + str(len(var1)) + ' characters long.')"
   ]
  },
  {
   "cell_type": "markdown",
   "metadata": {},
   "source": [
    "This means that when we call the help function with our function as a parameter, the docstring is returned as follows:"
   ]
  },
  {
   "cell_type": "code",
   "execution_count": 50,
   "metadata": {
    "collapsed": false
   },
   "outputs": [
    {
     "name": "stdout",
     "output_type": "stream",
     "text": [
      "Help on function print_len in module __main__:\n",
      "\n",
      "print_len(var1)\n",
      "    Prints the length of the input character string\n",
      "\n"
     ]
    }
   ],
   "source": [
    "help(print_len)"
   ]
  },
  {
   "cell_type": "markdown",
   "metadata": {},
   "source": [
    "## All about if, elif, else and return"
   ]
  },
  {
   "cell_type": "markdown",
   "metadata": {},
   "source": [
    "We can also use logic in functions with the if and elif statements. Also, the return statement can be used to make the function return a value.\n",
    "\n",
    "Note that return differs from print in that:\n",
    "\n",
    "* print is for the benefit of the user; You're telling Python to output something for you to see.\n",
    "* return is how a function gives back a value which can be further used in your code\n",
    "\n",
    "A good example of this is below:"
   ]
  },
  {
   "cell_type": "code",
   "execution_count": 14,
   "metadata": {
    "collapsed": true
   },
   "outputs": [],
   "source": []
  },
  {
   "cell_type": "markdown",
   "metadata": {},
   "source": [
    "We can test the function as follows:"
   ]
  },
  {
   "cell_type": "code",
   "execution_count": 16,
   "metadata": {
    "collapsed": false
   },
   "outputs": [
    {
     "name": "stdout",
     "output_type": "stream",
     "text": [
      "100 50 error\n"
     ]
    }
   ],
   "source": [
    "print(traffic_returner('cars'),\n",
    "      traffic_returner('bikes'),\n",
    "      traffic_returner('lorries'))"
   ]
  },
  {
   "cell_type": "markdown",
   "metadata": {},
   "source": [
    "It will also return an error in the event that our input parameter is incorrect:"
   ]
  },
  {
   "cell_type": "code",
   "execution_count": 17,
   "metadata": {
    "collapsed": false
   },
   "outputs": [
    {
     "data": {
      "text/plain": [
       "'error'"
      ]
     },
     "execution_count": 17,
     "metadata": {},
     "output_type": "execute_result"
    }
   ],
   "source": [
    "traffic_returner('boats')"
   ]
  },
  {
   "cell_type": "markdown",
   "metadata": {},
   "source": [
    "The return function allows us to use the output values in further processing:"
   ]
  },
  {
   "cell_type": "code",
   "execution_count": 18,
   "metadata": {
    "collapsed": false
   },
   "outputs": [
    {
     "data": {
      "text/plain": [
       "150"
      ]
     },
     "execution_count": 18,
     "metadata": {},
     "output_type": "execute_result"
    }
   ],
   "source": [
    "\n",
    "traffic_returner('cars') + traffic_returner('bikes')"
   ]
  },
  {
   "cell_type": "markdown",
   "metadata": {},
   "source": [
    "However this can have unexpected results!!"
   ]
  },
  {
   "cell_type": "code",
   "execution_count": 19,
   "metadata": {
    "collapsed": false
   },
   "outputs": [
    {
     "data": {
      "text/plain": [
       "'errorerror'"
      ]
     },
     "execution_count": 19,
     "metadata": {},
     "output_type": "execute_result"
    }
   ],
   "source": [
    "traffic_returner('casr') + traffic_returner('bikse')"
   ]
  },
  {
   "cell_type": "markdown",
   "metadata": {},
   "source": [
    "## Namespace & LEGB / Scope"
   ]
  },
  {
   "cell_type": "markdown",
   "metadata": {},
   "source": [
    "Need to add some stuff about Namespaces"
   ]
  },
  {
   "cell_type": "markdown",
   "metadata": {},
   "source": [
    "What happens when we try and call an input parameter for a function outside of that function?"
   ]
  },
  {
   "cell_type": "code",
   "execution_count": null,
   "metadata": {
    "collapsed": false
   },
   "outputs": [],
   "source": [
    "def traffic_printer_v3(cars,bikes,buses,day):\n",
    "    ''' Prints the number of cars, bikes and buses counted on the specified day '''\n",
    "    print(\"There were %s cars counted on %s\"  % (cars,day))\n",
    "    print(\"There were %s bikes counted on %s\" % (bikes,day))\n",
    "    print(\"There were %s buses counted on %s\" % (buses,day))\n",
    "\n",
    "traffic_printer_v3(200,50,25,\"Monday\")\n",
    "\n",
    "print(cars)"
   ]
  },
  {
   "cell_type": "markdown",
   "metadata": {},
   "source": [
    "The print fails because the cars variable has been locally defined within the traffic_printer_v3 function. But what happens if we define a global variable also called cars?"
   ]
  },
  {
   "cell_type": "code",
   "execution_count": null,
   "metadata": {
    "collapsed": false
   },
   "outputs": [],
   "source": [
    "cars = 300\n",
    "traffic_printer_v3(200,50,25,\"Monday\")\n",
    "\n",
    "print(\"The global value for cars is %s\" % cars)"
   ]
  },
  {
   "cell_type": "markdown",
   "metadata": {},
   "source": [
    "Python prioritises the local variable over the global variable within the function. This is called the LEGB rule but is also sometimes called scope in other languages and relates largely to what priority Python gives variables based upon where they're assigned:\n",
    "\n",
    "* L, Local — Names assigned in any way within a function (def or lambda)), and not declared global in that function.\n",
    "\n",
    "* E, Enclosing function locals — Name in the local scope of any and all enclosing functions (def or lambda), from inner to outer.\n",
    "\n",
    "* G, Global (module) — Names assigned at the top-level of a module file, or declared global in a def within the file.\n",
    "\n",
    "* B, Built-in (Python) — Names preassigned in the built-in names module."
   ]
  },
  {
   "cell_type": "markdown",
   "metadata": {
    "collapsed": true
   },
   "source": [
    "## Further Reading"
   ]
  },
  {
   "cell_type": "markdown",
   "metadata": {},
   "source": [
    "<a href = \"http://stackoverflow.com/questions/291978/short-description-of-python-scoping-rules\">Python Scoping Rules</a><br/>\n",
    "<a href = \"https://blog.mozilla.org/webdev/2011/01/31/python-scoping-understanding-legb/\">Understanding LEGB</a><br/>"
   ]
  },
  {
   "cell_type": "code",
   "execution_count": null,
   "metadata": {
    "collapsed": true
   },
   "outputs": [],
   "source": []
  }
 ],
 "metadata": {
  "anaconda-cloud": {},
  "kernelspec": {
   "display_name": "Python 3",
   "language": "python",
   "name": "python3"
  },
  "language_info": {
   "codemirror_mode": {
    "name": "ipython",
    "version": 3
   },
   "file_extension": ".py",
   "mimetype": "text/x-python",
   "name": "python",
   "nbconvert_exporter": "python",
   "pygments_lexer": "ipython3",
   "version": "3.5.2"
  }
 },
 "nbformat": 4,
 "nbformat_minor": 0
}
